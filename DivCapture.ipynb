{
 "cells": [
  {
   "cell_type": "code",
   "execution_count": 14,
   "id": "582deea6-ed78-467e-bc88-67da32703362",
   "metadata": {},
   "outputs": [],
   "source": [
    "# Welcome to dividend capture analysis\n",
    "import yfinance as yf\n",
    "import pandas as pd\n",
    "import matplotlib.pyplot as plt\n",
    "%matplotlib inline\n",
    "%load_ext autoreload\n",
    "%autoreload 2"
   ]
  },
  {
   "cell_type": "code",
   "execution_count": 2,
   "id": "6d5a1336-dac7-418c-88c3-0f11fb1ddad7",
   "metadata": {},
   "outputs": [],
   "source": [
    "import prefcode as pc\n"
   ]
  },
  {
   "cell_type": "code",
   "execution_count": 10,
   "id": "5a62ec72-cbda-49aa-9c91-1ff97f76498e",
   "metadata": {},
   "outputs": [],
   "source": [
    "import requests_cache\n",
    "session = requests_cache.CachedSession('div.cache', expire_after=3600)"
   ]
  },
  {
   "cell_type": "code",
   "execution_count": 3,
   "id": "9730efc9-2c93-46f4-ad3c-302727e44336",
   "metadata": {},
   "outputs": [],
   "source": [
    "foo = pc.convert_std_ticker_to_yahoo(\"PWF.PR.T\")"
   ]
  },
  {
   "cell_type": "code",
   "execution_count": 11,
   "id": "efeb8b72-a2c4-4883-9d22-edf24ce12785",
   "metadata": {},
   "outputs": [],
   "source": [
    "pwft = yf.Ticker(foo, session=session)"
   ]
  },
  {
   "cell_type": "code",
   "execution_count": 29,
   "id": "19eab894-c6f3-48fb-9dfc-9896de2c30b1",
   "metadata": {},
   "outputs": [
    {
     "data": {
      "text/html": [
       "<div>\n",
       "<style scoped>\n",
       "    .dataframe tbody tr th:only-of-type {\n",
       "        vertical-align: middle;\n",
       "    }\n",
       "\n",
       "    .dataframe tbody tr th {\n",
       "        vertical-align: top;\n",
       "    }\n",
       "\n",
       "    .dataframe thead th {\n",
       "        text-align: right;\n",
       "    }\n",
       "</style>\n",
       "<table border=\"1\" class=\"dataframe\">\n",
       "  <thead>\n",
       "    <tr style=\"text-align: right;\">\n",
       "      <th></th>\n",
       "      <th>Open</th>\n",
       "      <th>High</th>\n",
       "      <th>Low</th>\n",
       "      <th>Close</th>\n",
       "      <th>Adj Close</th>\n",
       "      <th>Volume</th>\n",
       "      <th>Dividends</th>\n",
       "      <th>Stock Splits</th>\n",
       "    </tr>\n",
       "    <tr>\n",
       "      <th>Date</th>\n",
       "      <th></th>\n",
       "      <th></th>\n",
       "      <th></th>\n",
       "      <th></th>\n",
       "      <th></th>\n",
       "      <th></th>\n",
       "      <th></th>\n",
       "      <th></th>\n",
       "    </tr>\n",
       "  </thead>\n",
       "  <tbody>\n",
       "    <tr>\n",
       "      <th>2013-12-11</th>\n",
       "      <td>25.280001</td>\n",
       "      <td>25.350000</td>\n",
       "      <td>25.219999</td>\n",
       "      <td>25.299999</td>\n",
       "      <td>17.283253</td>\n",
       "      <td>728130</td>\n",
       "      <td>0.0</td>\n",
       "      <td>0</td>\n",
       "    </tr>\n",
       "    <tr>\n",
       "      <th>2013-12-12</th>\n",
       "      <td>25.299999</td>\n",
       "      <td>25.299999</td>\n",
       "      <td>25.260000</td>\n",
       "      <td>25.280001</td>\n",
       "      <td>17.269592</td>\n",
       "      <td>121380</td>\n",
       "      <td>0.0</td>\n",
       "      <td>0</td>\n",
       "    </tr>\n",
       "    <tr>\n",
       "      <th>2013-12-13</th>\n",
       "      <td>25.260000</td>\n",
       "      <td>25.290001</td>\n",
       "      <td>25.260000</td>\n",
       "      <td>25.290001</td>\n",
       "      <td>17.276417</td>\n",
       "      <td>25483</td>\n",
       "      <td>0.0</td>\n",
       "      <td>0</td>\n",
       "    </tr>\n",
       "    <tr>\n",
       "      <th>2013-12-16</th>\n",
       "      <td>25.280001</td>\n",
       "      <td>25.299999</td>\n",
       "      <td>25.260000</td>\n",
       "      <td>25.299999</td>\n",
       "      <td>17.283253</td>\n",
       "      <td>26910</td>\n",
       "      <td>0.0</td>\n",
       "      <td>0</td>\n",
       "    </tr>\n",
       "    <tr>\n",
       "      <th>2013-12-17</th>\n",
       "      <td>25.260000</td>\n",
       "      <td>25.320000</td>\n",
       "      <td>25.260000</td>\n",
       "      <td>25.320000</td>\n",
       "      <td>17.296911</td>\n",
       "      <td>27830</td>\n",
       "      <td>0.0</td>\n",
       "      <td>0</td>\n",
       "    </tr>\n",
       "    <tr>\n",
       "      <th>...</th>\n",
       "      <td>...</td>\n",
       "      <td>...</td>\n",
       "      <td>...</td>\n",
       "      <td>...</td>\n",
       "      <td>...</td>\n",
       "      <td>...</td>\n",
       "      <td>...</td>\n",
       "      <td>...</td>\n",
       "    </tr>\n",
       "    <tr>\n",
       "      <th>2021-08-13</th>\n",
       "      <td>24.160000</td>\n",
       "      <td>24.209999</td>\n",
       "      <td>24.160000</td>\n",
       "      <td>24.200001</td>\n",
       "      <td>24.200001</td>\n",
       "      <td>5907</td>\n",
       "      <td>0.0</td>\n",
       "      <td>0</td>\n",
       "    </tr>\n",
       "    <tr>\n",
       "      <th>2021-08-16</th>\n",
       "      <td>24.139999</td>\n",
       "      <td>24.215000</td>\n",
       "      <td>24.139999</td>\n",
       "      <td>24.215000</td>\n",
       "      <td>24.215000</td>\n",
       "      <td>3400</td>\n",
       "      <td>0.0</td>\n",
       "      <td>0</td>\n",
       "    </tr>\n",
       "    <tr>\n",
       "      <th>2021-08-17</th>\n",
       "      <td>24.209999</td>\n",
       "      <td>24.209999</td>\n",
       "      <td>24.139999</td>\n",
       "      <td>24.139999</td>\n",
       "      <td>24.139999</td>\n",
       "      <td>1900</td>\n",
       "      <td>0.0</td>\n",
       "      <td>0</td>\n",
       "    </tr>\n",
       "    <tr>\n",
       "      <th>2021-08-18</th>\n",
       "      <td>24.139999</td>\n",
       "      <td>24.240000</td>\n",
       "      <td>24.129999</td>\n",
       "      <td>24.129999</td>\n",
       "      <td>24.129999</td>\n",
       "      <td>1300</td>\n",
       "      <td>0.0</td>\n",
       "      <td>0</td>\n",
       "    </tr>\n",
       "    <tr>\n",
       "      <th>2021-08-19</th>\n",
       "      <td>24.010000</td>\n",
       "      <td>24.010000</td>\n",
       "      <td>24.000000</td>\n",
       "      <td>24.000000</td>\n",
       "      <td>24.000000</td>\n",
       "      <td>600</td>\n",
       "      <td>0.0</td>\n",
       "      <td>0</td>\n",
       "    </tr>\n",
       "  </tbody>\n",
       "</table>\n",
       "<p>1924 rows × 8 columns</p>\n",
       "</div>"
      ],
      "text/plain": [
       "                 Open       High        Low      Close  Adj Close  Volume  \\\n",
       "Date                                                                        \n",
       "2013-12-11  25.280001  25.350000  25.219999  25.299999  17.283253  728130   \n",
       "2013-12-12  25.299999  25.299999  25.260000  25.280001  17.269592  121380   \n",
       "2013-12-13  25.260000  25.290001  25.260000  25.290001  17.276417   25483   \n",
       "2013-12-16  25.280001  25.299999  25.260000  25.299999  17.283253   26910   \n",
       "2013-12-17  25.260000  25.320000  25.260000  25.320000  17.296911   27830   \n",
       "...               ...        ...        ...        ...        ...     ...   \n",
       "2021-08-13  24.160000  24.209999  24.160000  24.200001  24.200001    5907   \n",
       "2021-08-16  24.139999  24.215000  24.139999  24.215000  24.215000    3400   \n",
       "2021-08-17  24.209999  24.209999  24.139999  24.139999  24.139999    1900   \n",
       "2021-08-18  24.139999  24.240000  24.129999  24.129999  24.129999    1300   \n",
       "2021-08-19  24.010000  24.010000  24.000000  24.000000  24.000000     600   \n",
       "\n",
       "            Dividends  Stock Splits  \n",
       "Date                                 \n",
       "2013-12-11        0.0             0  \n",
       "2013-12-12        0.0             0  \n",
       "2013-12-13        0.0             0  \n",
       "2013-12-16        0.0             0  \n",
       "2013-12-17        0.0             0  \n",
       "...               ...           ...  \n",
       "2021-08-13        0.0             0  \n",
       "2021-08-16        0.0             0  \n",
       "2021-08-17        0.0             0  \n",
       "2021-08-18        0.0             0  \n",
       "2021-08-19        0.0             0  \n",
       "\n",
       "[1924 rows x 8 columns]"
      ]
     },
     "execution_count": 29,
     "metadata": {},
     "output_type": "execute_result"
    }
   ],
   "source": [
    "hist = pwft.history(period=\"max\", auto_adjust=False)\n",
    "hist"
   ]
  },
  {
   "cell_type": "code",
   "execution_count": 30,
   "id": "14972962-653f-46a5-9841-347c656ddf75",
   "metadata": {},
   "outputs": [
    {
     "data": {
      "text/plain": [
       "<matplotlib.legend.Legend at 0x7fb739002ca0>"
      ]
     },
     "execution_count": 30,
     "metadata": {},
     "output_type": "execute_result"
    },
    {
     "data": {
      "image/png": "[encoded data removed]",
      "text/plain": [
       "<Figure size 1152x576 with 1 Axes>"
      ]
     },
     "metadata": {
      "needs_background": "light"
     },
     "output_type": "display_data"
    }
   ],
   "source": [
    "hist['Close'].plot(label='Close', figsize=(16,8), title = 'Closing Price')\n",
    "plt.legend()"
   ]
  },
  {
   "cell_type": "code",
   "execution_count": 19,
   "id": "d41a039d-03d4-4102-8d4e-cf9107704710",
   "metadata": {},
   "outputs": [
    {
     "data": {
      "text/plain": [
       "Date\n",
       "2014-04-07    0.402740\n",
       "2014-07-08    0.262500\n",
       "2014-10-08    0.262500\n",
       "2015-01-07    0.262500\n",
       "2015-04-07    0.262500\n",
       "2015-07-08    0.262500\n",
       "2015-10-07    0.262500\n",
       "2016-01-06    0.262500\n",
       "2016-04-06    0.262500\n",
       "2016-07-07    0.262500\n",
       "2016-10-06    0.262500\n",
       "2017-01-06    0.262500\n",
       "2017-04-06    0.262500\n",
       "2017-07-06    0.262500\n",
       "2017-10-06    0.262500\n",
       "2018-01-09    0.262500\n",
       "2018-04-06    0.262500\n",
       "2018-07-09    0.262500\n",
       "2018-10-09    0.262500\n",
       "2019-01-09    0.262500\n",
       "2019-04-08    0.263438\n",
       "2019-07-09    0.263438\n",
       "2019-10-09    0.263438\n",
       "2020-01-09    0.263438\n",
       "2020-04-08    0.263438\n",
       "2020-07-09    0.263438\n",
       "2020-10-08    0.263438\n",
       "2021-01-07    0.263438\n",
       "2021-04-08    0.263438\n",
       "2021-07-08    0.263438\n",
       "Name: Dividends, dtype: float64"
      ]
     },
     "execution_count": 19,
     "metadata": {},
     "output_type": "execute_result"
    }
   ],
   "source": [
    "pwft.dividends"
   ]
  },
  {
   "cell_type": "code",
   "execution_count": null,
   "id": "ad18d4ef-3d32-4d77-bc56-d14805d6e7ef",
   "metadata": {},
   "outputs": [],
   "source": []
  }
 ],
 "metadata": {
  "kernelspec": {
   "display_name": "Python 3",
   "language": "python",
   "name": "python3"
  },
  "language_info": {
   "codemirror_mode": {
    "name": "ipython",
    "version": 3
   },
   "file_extension": ".py",
   "mimetype": "text/x-python",
   "name": "python",
   "nbconvert_exporter": "python",
   "pygments_lexer": "ipython3",
   "version": "3.9.6"
  }
 },
 "nbformat": 4,
 "nbformat_minor": 5
}
