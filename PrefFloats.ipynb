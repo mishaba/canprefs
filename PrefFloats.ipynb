{
 "cells": [
  {
   "cell_type": "code",
   "execution_count": null,
   "id": "b0c50160-d430-495e-95d1-f34795134420",
   "metadata": {},
   "outputs": [],
   "source": [
    "# Hello there.   This is a do-over of the floating preferred analyzer\n",
    "\n",
    "# Time to develop clean modules. Let's start with reading in a list of prefs\n",
    "# The input data consists of three separate tables:\n",
    "# a) A listing of tickers and their configurations\n",
    "# b) A list of ratings for each company (equivalently, of the ticker)\n",
    "# c) The current interest rate environment, which has only the 3-month rate and the prime rate\n",
    "\n"
   ]
  },
  {
   "cell_type": "code",
   "execution_count": null,
   "id": "d6104dd1-f913-4b88-83fa-e127b34c4ef3",
   "metadata": {},
   "outputs": [],
   "source": [
    "# Imports go here\n",
    "import pandas as pd\n",
    "import requests_cache\n",
    "# local ones\n",
    "import prefcode as pc\n"
   ]
  },
  {
   "cell_type": "code",
   "execution_count": null,
   "id": "3b5918db-f635-4a43-baf7-c0483f1faba5",
   "metadata": {},
   "outputs": [],
   "source": [
    "%load_ext autoreload\n",
    "%autoreload 2"
   ]
  },
  {
   "cell_type": "code",
   "execution_count": null,
   "id": "ece27ce6-46f2-4ea8-81a0-a6f46098f49d",
   "metadata": {},
   "outputs": [],
   "source": [
    "# Set up cache\n",
    "session_cached = requests_cache.CachedSession('yfinance.cache',expire_after=3600)\n",
    "session_uncached = requests_cache.CachedSession('yfinance2.cache',expire_after=30)\n"
   ]
  },
  {
   "cell_type": "code",
   "execution_count": null,
   "id": "b1ab0b77-c415-4561-b98c-8de5bb854674",
   "metadata": {},
   "outputs": [],
   "source": [
    "# Read the prefs database\n",
    "\n",
    "print(\"Setting up databases\")\n",
    "df, interest_db = pc.setup_databases()\n",
    "\n",
    "print(\"Fetching price data\")\n",
    "df = pc.fetch_prices(df, session_cached, fetch=True)\n",
    "\n",
    "print(\"Updating dividends and current yield\")\n",
    "df = pc.update_div_and_yield(df, interest_db,price_column=\"Price\")\n",
    "\n",
    "print(\"Updating market spread for later calculation\")\n",
    "df2 = pc.update_market_spread(df, interest_db)\n",
    "\n",
    "print(\"Dropping prime-related preferreds. Maybe another day\")\n",
    "tdf = df[df['Type'] == 'T'].copy()\n",
    "\n",
    "print(\"Calculating scenarios\")\n",
    "scenarios = {\"010\":  [0.10,  0.05],\n",
    "             \"018\":  [0.18,  0.25],\n",
    "             \"030\":  [0.30,  0.50],\n",
    "             \"050\":  [0.50,  0.20]}\n",
    "\n",
    "pc.update_expected_yield(tdf, scenarios)\n"
   ]
  },
  {
   "cell_type": "code",
   "execution_count": null,
   "id": "d59c4d88-1e37-4f8d-8416-9f4e249905a3",
   "metadata": {},
   "outputs": [],
   "source": [
    "print(\"Here are the highest yield items\")\n",
    "tdf.sort_values(by='ExpYield', ascending=False).head(15)"
   ]
  },
  {
   "cell_type": "code",
   "execution_count": null,
   "id": "b860299b-4374-4c04-a2a7-070be70e9252",
   "metadata": {},
   "outputs": [],
   "source": [
    "print(\"And uniquified by issuer\")\n",
    "# Uniquify by parent\n",
    "tdf['Parent'] = [x.split('.')[0] for x in tdf['Ticker']]\n",
    "#tdf\n",
    "uniq_parent = pc.summarize_best_by_column(tdf,'ExpYield','Parent')\n",
    "\n",
    "uniq_parent = uniq_parent.reindex(columns=[\"Ticker\", \"Rating\", \n",
    "                                           \"Spread\",\"CurYieldPct\",\"ExpYield\"])\n",
    "# make it a bit more readable\n",
    "\n",
    "uniq_parent['CurYield'] = [round(x,3) for x in uniq_parent['CurYieldPct']]\n",
    "uniq_parent['ExpYield'] = [round(x,3) for x in uniq_parent['ExpYield']]\n",
    "uniq_parent.drop(columns=['CurYieldPct'], errors='ignore', inplace=True)\n",
    "uniq_parent.sort_values(by='ExpYield', ascending=False).head(15)\n"
   ]
  },
  {
   "cell_type": "code",
   "execution_count": null,
   "id": "3ed1e757-2d20-4f67-86b6-7f3523ddced5",
   "metadata": {},
   "outputs": [],
   "source": [
    "best_scn_df = pc.summarize_best_by_column(tdf, 'ExpYield')\n",
    "best_scn_df = best_scn_df.reindex(columns=[\"Ticker\", \"Rating\", \"Spread\",\"ExpYield\", \"MSpread\"])\n",
    "\n",
    "print(\"And here are the best by rating level\")\n",
    "best_scn_df.sort_values(by=['Rating'])"
   ]
  },
  {
   "cell_type": "code",
   "execution_count": null,
   "id": "2332c826-46ed-42a2-a946-84a98d8d99a0",
   "metadata": {},
   "outputs": [],
   "source": [
    "# Now, check market spread and flag if below average for the group\n",
    "# That could result in a re-rating\n",
    "mdf = pc.calculate_avg_per_rating(tdf, column='MSpread')\n",
    "mdf"
   ]
  },
  {
   "cell_type": "code",
   "execution_count": null,
   "id": "8e68d679-2b30-4545-9e0c-f9e19afe6005",
   "metadata": {},
   "outputs": [],
   "source": []
  }
 ],
 "metadata": {
  "kernelspec": {
   "display_name": "Python 3",
   "language": "python",
   "name": "python3"
  },
  "language_info": {
   "codemirror_mode": {
    "name": "ipython",
    "version": 3
   },
   "file_extension": ".py",
   "mimetype": "text/x-python",
   "name": "python",
   "nbconvert_exporter": "python",
   "pygments_lexer": "ipython3",
   "version": "3.9.6"
  }
 },
 "nbformat": 4,
 "nbformat_minor": 5
}
