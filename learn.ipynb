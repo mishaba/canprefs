{
 "cells": [
  {
   "cell_type": "code",
   "execution_count": null,
   "id": "23b4c037-49a9-4b21-93f8-50af1f8b1686",
   "metadata": {},
   "outputs": [],
   "source": [
    "# https://letyourmoneygrow.com/2018/02/01/market-data-quality-beware-splits-dividends/\n"
   ]
  }
 ],
 "metadata": {
  "kernelspec": {
   "display_name": "Python 3",
   "language": "python",
   "name": "python3"
  },
  "language_info": {
   "codemirror_mode": {
    "name": "ipython",
    "version": 3
   },
   "file_extension": ".py",
   "mimetype": "text/x-python",
   "name": "python",
   "nbconvert_exporter": "python",
   "pygments_lexer": "ipython3",
   "version": "3.9.6"
  }
 },
 "nbformat": 4,
 "nbformat_minor": 5
}
