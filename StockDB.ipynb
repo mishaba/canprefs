{
 "cells": [
  {
   "cell_type": "code",
   "execution_count": 2,
   "id": "465dbabe-fbec-449e-85e6-a62e3321b0df",
   "metadata": {},
   "outputs": [],
   "source": [
    "import yfinance as yf"
   ]
  },
  {
   "cell_type": "code",
   "execution_count": 1,
   "id": "7429caed-3367-4eea-b651-2362ee3e80f8",
   "metadata": {},
   "outputs": [
    {
     "data": {
      "text/plain": [
       "'/Volumes/MishaPersonal/Files/code/fintech/canprefs'"
      ]
     },
     "execution_count": 1,
     "metadata": {},
     "output_type": "execute_result"
    }
   ],
   "source": [
    "import os\n",
    "os.getcwd()"
   ]
  },
  {
   "cell_type": "code",
   "execution_count": 3,
   "id": "cd313889-1d98-4c6a-a3f7-17ec28aad053",
   "metadata": {},
   "outputs": [],
   "source": [
    "# Hello, this is a stock db test\n",
    "import pandas as pd\n",
    "import sqlite3"
   ]
  },
  {
   "cell_type": "code",
   "execution_count": 2,
   "id": "16edbd4f-d33c-46d9-885c-418fe4689dcf",
   "metadata": {},
   "outputs": [],
   "source": [
    "df = pd.read_pickle(\"./pwf_pr_t.av\")"
   ]
  },
  {
   "cell_type": "code",
   "execution_count": 5,
   "id": "cbeef405-445f-4e52-b97f-068bff4fd39c",
   "metadata": {},
   "outputs": [
    {
     "data": {
      "text/plain": [
       "<sqlite3.Cursor at 0x7f890060bea0>"
      ]
     },
     "execution_count": 5,
     "metadata": {},
     "output_type": "execute_result"
    }
   ],
   "source": [
    "# create a sql connection\n",
    "con = sqlite3.connect('stock.db')\n",
    "c = con.cursor()\n",
    "\n"
   ]
  },
  {
   "cell_type": "code",
   "execution_count": null,
   "id": "f5b6e27c-75f3-41b8-a226-50f2f891d5d3",
   "metadata": {},
   "outputs": [],
   "source": [
    "# create price table\n",
    "query1 = \"\"\"CREATE TABLE IF NOT EXISTS prices (\n",
    "Date TEXT NOT NULL,\n",
    "ticker TEXT NOT NULL,\n",
    "price REAL,\n",
    "PRIMARY KEY(Date, ticker)\n",
    ")\"\"\"\n",
    "c.execute(query1.replace('\\n',' '))\n",
    "# create volume table\n",
    "query2 = \"\"\"CREATE TABLE IF NOT EXISTS volume (\n",
    "Date TEXT NOT NULL,\n",
    "ticker TEXT NOT NULL,\n",
    "volume REAL,\n",
    "PRIMARY KEY(Date, ticker)\n",
    ")\"\"\"\n",
    "c.execute(query2.replace('\\n',' '))"
   ]
  },
  {
   "cell_type": "code",
   "execution_count": 4,
   "id": "b28c4cb1-1f89-4ccf-a9e7-a51e93054107",
   "metadata": {},
   "outputs": [],
   "source": [
    "# backtest inputs\n",
    "bt_inputs = {'tickers': ['BA', 'UNH', 'MCD', 'HD'],\n",
    "'start_date': '2019-01-01',\n",
    "'end_date': '2021-06-01'}"
   ]
  },
  {
   "cell_type": "code",
   "execution_count": 8,
   "id": "0a8511af-d495-4fc1-b922-cee8c569a161",
   "metadata": {},
   "outputs": [],
   "source": [
    "def download(bt_inputs, proxy = None):\n",
    "    data = yf.download(tickers= bt_inputs['tickers'],\n",
    "                       start = bt_inputs['start_date'],   \n",
    "                       end = bt_inputs['end_date'],\n",
    "                       interval = '1d',\n",
    "                       prepost = True,\n",
    "                       threads = True,\n",
    "                       proxy = proxy)\n",
    "    return data"
   ]
  },
  {
   "cell_type": "code",
   "execution_count": 9,
   "id": "65ab5811-5bdd-499b-a3c6-ec4cb9369c5c",
   "metadata": {},
   "outputs": [
    {
     "name": "stdout",
     "output_type": "stream",
     "text": [
      "[*********************100%***********************]  4 of 4 completed\n"
     ]
    }
   ],
   "source": [
    "test = download(bt_inputs)"
   ]
  },
  {
   "cell_type": "code",
   "execution_count": 10,
   "id": "d6b55a70-798f-47c7-ada0-332dabc35588",
   "metadata": {},
   "outputs": [
    {
     "data": {
      "text/html": [
       "<div>\n",
       "<style scoped>\n",
       "    .dataframe tbody tr th:only-of-type {\n",
       "        vertical-align: middle;\n",
       "    }\n",
       "\n",
       "    .dataframe tbody tr th {\n",
       "        vertical-align: top;\n",
       "    }\n",
       "\n",
       "    .dataframe thead th {\n",
       "        text-align: right;\n",
       "    }\n",
       "</style>\n",
       "<table border=\"1\" class=\"dataframe\">\n",
       "  <thead>\n",
       "    <tr style=\"text-align: right;\">\n",
       "      <th></th>\n",
       "      <th>BA</th>\n",
       "      <th>HD</th>\n",
       "      <th>MCD</th>\n",
       "      <th>UNH</th>\n",
       "    </tr>\n",
       "    <tr>\n",
       "      <th>Date</th>\n",
       "      <th></th>\n",
       "      <th></th>\n",
       "      <th></th>\n",
       "      <th></th>\n",
       "    </tr>\n",
       "  </thead>\n",
       "  <tbody>\n",
       "    <tr>\n",
       "      <th>2019-01-02</th>\n",
       "      <td>314.645142</td>\n",
       "      <td>162.099030</td>\n",
       "      <td>165.785156</td>\n",
       "      <td>233.873474</td>\n",
       "    </tr>\n",
       "    <tr>\n",
       "      <th>2019-01-03</th>\n",
       "      <td>302.100555</td>\n",
       "      <td>158.526291</td>\n",
       "      <td>164.692841</td>\n",
       "      <td>227.495728</td>\n",
       "    </tr>\n",
       "    <tr>\n",
       "      <th>2019-01-04</th>\n",
       "      <td>317.822601</td>\n",
       "      <td>163.236664</td>\n",
       "      <td>167.875580</td>\n",
       "      <td>230.156311</td>\n",
       "    </tr>\n",
       "    <tr>\n",
       "      <th>2019-01-07</th>\n",
       "      <td>318.823395</td>\n",
       "      <td>166.452118</td>\n",
       "      <td>169.702393</td>\n",
       "      <td>230.598145</td>\n",
       "    </tr>\n",
       "    <tr>\n",
       "      <th>2019-01-08</th>\n",
       "      <td>330.891937</td>\n",
       "      <td>167.251282</td>\n",
       "      <td>170.060226</td>\n",
       "      <td>233.681335</td>\n",
       "    </tr>\n",
       "  </tbody>\n",
       "</table>\n",
       "</div>"
      ],
      "text/plain": [
       "                    BA          HD         MCD         UNH\n",
       "Date                                                      \n",
       "2019-01-02  314.645142  162.099030  165.785156  233.873474\n",
       "2019-01-03  302.100555  158.526291  164.692841  227.495728\n",
       "2019-01-04  317.822601  163.236664  167.875580  230.156311\n",
       "2019-01-07  318.823395  166.452118  169.702393  230.598145\n",
       "2019-01-08  330.891937  167.251282  170.060226  233.681335"
      ]
     },
     "execution_count": 10,
     "metadata": {},
     "output_type": "execute_result"
    }
   ],
   "source": [
    "adj_close = test['Adj Close']\n",
    "volume = test['Volume']\n",
    "adj_close.head()"
   ]
  },
  {
   "cell_type": "code",
   "execution_count": 15,
   "id": "3dead647-1586-4b79-99ab-caff21a0c99f",
   "metadata": {},
   "outputs": [],
   "source": [
    "# convert wide to long\n",
    "adj_close_long = pd.melt(adj_close.reset_index(), id_vars='Date', \n",
    "                         value_vars=bt_inputs['tickers'], \n",
    "                         var_name =\"ticker\", value_name=\"price\")\n",
    "volume_long = pd.melt(volume.reset_index(), id_vars='Date', \n",
    "                      value_vars=bt_inputs['tickers'], \n",
    "                      var_name = \"ticker\", value_name = \"volume\")\n"
   ]
  },
  {
   "cell_type": "code",
   "execution_count": 16,
   "id": "a0877c83-6eb8-460a-b895-900d32708292",
   "metadata": {},
   "outputs": [
    {
     "data": {
      "text/html": [
       "<div>\n",
       "<style scoped>\n",
       "    .dataframe tbody tr th:only-of-type {\n",
       "        vertical-align: middle;\n",
       "    }\n",
       "\n",
       "    .dataframe tbody tr th {\n",
       "        vertical-align: top;\n",
       "    }\n",
       "\n",
       "    .dataframe thead th {\n",
       "        text-align: right;\n",
       "    }\n",
       "</style>\n",
       "<table border=\"1\" class=\"dataframe\">\n",
       "  <thead>\n",
       "    <tr style=\"text-align: right;\">\n",
       "      <th></th>\n",
       "      <th>Date</th>\n",
       "      <th>ticker</th>\n",
       "      <th>price</th>\n",
       "    </tr>\n",
       "  </thead>\n",
       "  <tbody>\n",
       "    <tr>\n",
       "      <th>0</th>\n",
       "      <td>2019-01-02</td>\n",
       "      <td>BA</td>\n",
       "      <td>314.645142</td>\n",
       "    </tr>\n",
       "    <tr>\n",
       "      <th>1</th>\n",
       "      <td>2019-01-03</td>\n",
       "      <td>BA</td>\n",
       "      <td>302.100555</td>\n",
       "    </tr>\n",
       "    <tr>\n",
       "      <th>2</th>\n",
       "      <td>2019-01-04</td>\n",
       "      <td>BA</td>\n",
       "      <td>317.822601</td>\n",
       "    </tr>\n",
       "    <tr>\n",
       "      <th>3</th>\n",
       "      <td>2019-01-07</td>\n",
       "      <td>BA</td>\n",
       "      <td>318.823395</td>\n",
       "    </tr>\n",
       "    <tr>\n",
       "      <th>4</th>\n",
       "      <td>2019-01-08</td>\n",
       "      <td>BA</td>\n",
       "      <td>330.891937</td>\n",
       "    </tr>\n",
       "    <tr>\n",
       "      <th>...</th>\n",
       "      <td>...</td>\n",
       "      <td>...</td>\n",
       "      <td>...</td>\n",
       "    </tr>\n",
       "    <tr>\n",
       "      <th>2423</th>\n",
       "      <td>2021-05-24</td>\n",
       "      <td>HD</td>\n",
       "      <td>313.197662</td>\n",
       "    </tr>\n",
       "    <tr>\n",
       "      <th>2424</th>\n",
       "      <td>2021-05-25</td>\n",
       "      <td>HD</td>\n",
       "      <td>315.097687</td>\n",
       "    </tr>\n",
       "    <tr>\n",
       "      <th>2425</th>\n",
       "      <td>2021-05-26</td>\n",
       "      <td>HD</td>\n",
       "      <td>315.674652</td>\n",
       "    </tr>\n",
       "    <tr>\n",
       "      <th>2426</th>\n",
       "      <td>2021-05-27</td>\n",
       "      <td>HD</td>\n",
       "      <td>317.107147</td>\n",
       "    </tr>\n",
       "    <tr>\n",
       "      <th>2427</th>\n",
       "      <td>2021-05-28</td>\n",
       "      <td>HD</td>\n",
       "      <td>317.246429</td>\n",
       "    </tr>\n",
       "  </tbody>\n",
       "</table>\n",
       "<p>2428 rows × 3 columns</p>\n",
       "</div>"
      ],
      "text/plain": [
       "           Date ticker       price\n",
       "0    2019-01-02     BA  314.645142\n",
       "1    2019-01-03     BA  302.100555\n",
       "2    2019-01-04     BA  317.822601\n",
       "3    2019-01-07     BA  318.823395\n",
       "4    2019-01-08     BA  330.891937\n",
       "...         ...    ...         ...\n",
       "2423 2021-05-24     HD  313.197662\n",
       "2424 2021-05-25     HD  315.097687\n",
       "2425 2021-05-26     HD  315.674652\n",
       "2426 2021-05-27     HD  317.107147\n",
       "2427 2021-05-28     HD  317.246429\n",
       "\n",
       "[2428 rows x 3 columns]"
      ]
     },
     "execution_count": 16,
     "metadata": {},
     "output_type": "execute_result"
    }
   ],
   "source": [
    "adj_close_long"
   ]
  },
  {
   "cell_type": "code",
   "execution_count": 17,
   "id": "45ee0b50-cf26-4646-9d9a-7559e4c957e8",
   "metadata": {},
   "outputs": [],
   "source": [
    "adj_close_long.to_sql('prices', con, if_exists='append', index=False)\n",
    "volume_long.to_sql('volume', con, if_exists='append', index=False)"
   ]
  },
  {
   "cell_type": "code",
   "execution_count": 5,
   "id": "2b601b04-79b3-4e77-81ed-c714d24d4425",
   "metadata": {},
   "outputs": [],
   "source": [
    "con = sqlite3.connect('./stock.db')\n",
    "c = con.cursor()"
   ]
  },
  {
   "cell_type": "code",
   "execution_count": 6,
   "id": "6fdcc2ac-e2b6-4e33-8d20-934b936ad193",
   "metadata": {},
   "outputs": [],
   "source": [
    "# inputs\n",
    "select_tickers = bt_inputs['tickers']\n",
    "start_date = bt_inputs['start_date']\n",
    "end_date = bt_inputs['end_date']\n",
    "# construct query\n",
    "\n",
    "\n",
    "query = \"\"\"\n",
    "select * from prices\n",
    "where ticker in ('\"\"\"+ \"','\".join(select_tickers) + \"\"\"')\n",
    "and Date >= '\"\"\"+ start_date + \"\"\"'\n",
    "and Date < '\"\"\" + end_date + \"'\"\n",
    "\n",
    "c.execute(query.replace('\\n',' '))\n",
    "result = pd.DataFrame(c.fetchall(), columns = ['Date', 'ticker', 'price'])\n",
    "# convert to datetime\n",
    "result['Date'] = pd.to_datetime(result['Date'])"
   ]
  },
  {
   "cell_type": "code",
   "execution_count": 7,
   "id": "6e454732-0f8c-40f3-a899-02a5ed3896af",
   "metadata": {},
   "outputs": [
    {
     "data": {
      "text/html": [
       "<div>\n",
       "<style scoped>\n",
       "    .dataframe tbody tr th:only-of-type {\n",
       "        vertical-align: middle;\n",
       "    }\n",
       "\n",
       "    .dataframe tbody tr th {\n",
       "        vertical-align: top;\n",
       "    }\n",
       "\n",
       "    .dataframe thead th {\n",
       "        text-align: right;\n",
       "    }\n",
       "</style>\n",
       "<table border=\"1\" class=\"dataframe\">\n",
       "  <thead>\n",
       "    <tr style=\"text-align: right;\">\n",
       "      <th></th>\n",
       "      <th>Date</th>\n",
       "      <th>ticker</th>\n",
       "      <th>price</th>\n",
       "    </tr>\n",
       "  </thead>\n",
       "  <tbody>\n",
       "    <tr>\n",
       "      <th>0</th>\n",
       "      <td>2019-01-02</td>\n",
       "      <td>BA</td>\n",
       "      <td>314.645142</td>\n",
       "    </tr>\n",
       "    <tr>\n",
       "      <th>1</th>\n",
       "      <td>2019-01-02</td>\n",
       "      <td>HD</td>\n",
       "      <td>162.099030</td>\n",
       "    </tr>\n",
       "    <tr>\n",
       "      <th>2</th>\n",
       "      <td>2019-01-02</td>\n",
       "      <td>MCD</td>\n",
       "      <td>165.785156</td>\n",
       "    </tr>\n",
       "    <tr>\n",
       "      <th>3</th>\n",
       "      <td>2019-01-02</td>\n",
       "      <td>UNH</td>\n",
       "      <td>233.873474</td>\n",
       "    </tr>\n",
       "    <tr>\n",
       "      <th>4</th>\n",
       "      <td>2019-01-03</td>\n",
       "      <td>BA</td>\n",
       "      <td>302.100555</td>\n",
       "    </tr>\n",
       "    <tr>\n",
       "      <th>...</th>\n",
       "      <td>...</td>\n",
       "      <td>...</td>\n",
       "      <td>...</td>\n",
       "    </tr>\n",
       "    <tr>\n",
       "      <th>2423</th>\n",
       "      <td>2021-05-27</td>\n",
       "      <td>UNH</td>\n",
       "      <td>411.194000</td>\n",
       "    </tr>\n",
       "    <tr>\n",
       "      <th>2424</th>\n",
       "      <td>2021-05-28</td>\n",
       "      <td>BA</td>\n",
       "      <td>247.020004</td>\n",
       "    </tr>\n",
       "    <tr>\n",
       "      <th>2425</th>\n",
       "      <td>2021-05-28</td>\n",
       "      <td>HD</td>\n",
       "      <td>317.246429</td>\n",
       "    </tr>\n",
       "    <tr>\n",
       "      <th>2426</th>\n",
       "      <td>2021-05-28</td>\n",
       "      <td>MCD</td>\n",
       "      <td>233.889999</td>\n",
       "    </tr>\n",
       "    <tr>\n",
       "      <th>2427</th>\n",
       "      <td>2021-05-28</td>\n",
       "      <td>UNH</td>\n",
       "      <td>410.416840</td>\n",
       "    </tr>\n",
       "  </tbody>\n",
       "</table>\n",
       "<p>2428 rows × 3 columns</p>\n",
       "</div>"
      ],
      "text/plain": [
       "           Date ticker       price\n",
       "0    2019-01-02     BA  314.645142\n",
       "1    2019-01-02     HD  162.099030\n",
       "2    2019-01-02    MCD  165.785156\n",
       "3    2019-01-02    UNH  233.873474\n",
       "4    2019-01-03     BA  302.100555\n",
       "...         ...    ...         ...\n",
       "2423 2021-05-27    UNH  411.194000\n",
       "2424 2021-05-28     BA  247.020004\n",
       "2425 2021-05-28     HD  317.246429\n",
       "2426 2021-05-28    MCD  233.889999\n",
       "2427 2021-05-28    UNH  410.416840\n",
       "\n",
       "[2428 rows x 3 columns]"
      ]
     },
     "execution_count": 7,
     "metadata": {},
     "output_type": "execute_result"
    }
   ],
   "source": [
    "result"
   ]
  },
  {
   "cell_type": "code",
   "execution_count": null,
   "id": "c12f7091-8b94-4db7-958c-c791ecc81b20",
   "metadata": {},
   "outputs": [],
   "source": []
  }
 ],
 "metadata": {
  "kernelspec": {
   "display_name": "Python 3",
   "language": "python",
   "name": "python3"
  },
  "language_info": {
   "codemirror_mode": {
    "name": "ipython",
    "version": 3
   },
   "file_extension": ".py",
   "mimetype": "text/x-python",
   "name": "python",
   "nbconvert_exporter": "python",
   "pygments_lexer": "ipython3",
   "version": "3.9.6"
  }
 },
 "nbformat": 4,
 "nbformat_minor": 5
}
